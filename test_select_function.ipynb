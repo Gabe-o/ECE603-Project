{
 "cells": [
  {
   "cell_type": "code",
   "execution_count": 6,
   "metadata": {},
   "outputs": [],
   "source": [
    "import pandas as pd\n",
    "from des_helpers import dpa_select_function, encrypt, decrypt, bin2hex, des, preprocess_key, dec2bin\n",
    "\n",
    "# Load data\n",
    "trace_df = pd.read_csv(\"processed_trace_data.csv\")\n",
    "\n",
    "ciphertexts = [c.upper() for c in trace_df['Ciphertext']]\n",
    "plaintexts = [p.upper() for p in trace_df['Plaintext']]"
   ]
  },
  {
   "cell_type": "code",
   "execution_count": 7,
   "metadata": {},
   "outputs": [
    {
     "data": {
      "text/plain": [
       "Filepath      secmatv1_2006_04_0809/wave_DES_HW_2006-04-09_0...\n",
       "Key                                            6a65786a65786a65\n",
       "Plaintext                                      c80e9f96b23813ff\n",
       "Ciphertext                                     8d28b211cf8d2683\n",
       "Power                                                  0.072367\n",
       "Name: 0, dtype: object"
      ]
     },
     "execution_count": 7,
     "metadata": {},
     "output_type": "execute_result"
    }
   ],
   "source": [
    "trace_df.iloc[0]"
   ]
  },
  {
   "cell_type": "code",
   "execution_count": 8,
   "metadata": {},
   "outputs": [
    {
     "name": "stdout",
     "output_type": "stream",
     "text": [
      "True\n",
      "True\n"
     ]
    }
   ],
   "source": [
    "# Test encrypt decrypt\n",
    "sample = trace_df.iloc[0]\n",
    "key = sample[\"Key\"].upper()\n",
    "pt = sample[\"Plaintext\"].upper()\n",
    "ct = sample[\"Ciphertext\"].upper()\n",
    "\n",
    "text = bin2hex(encrypt(pt, key))\n",
    "print(text == ct)\n",
    "\n",
    "text = bin2hex(decrypt(ct, key))\n",
    "print(text == pt)"
   ]
  },
  {
   "cell_type": "code",
   "execution_count": 17,
   "metadata": {},
   "outputs": [
    {
     "name": "stdout",
     "output_type": "stream",
     "text": [
      "Decryption S-Box Output for first round first s-box: 0110\n",
      "Encryption S-Box Output for last round first s-box: 0110\n",
      "Decryption S-Box Output for first round first s-box: 1001\n",
      "Encryption S-Box Output for last round first s-box: 1001\n",
      "Decryption S-Box Output for first round first s-box: 0011\n",
      "Encryption S-Box Output for last round first s-box: 0011\n",
      "Decryption S-Box Output for first round first s-box: 0000\n",
      "Encryption S-Box Output for last round first s-box: 0000\n",
      "Decryption S-Box Output for first round first s-box: 1001\n",
      "Encryption S-Box Output for last round first s-box: 1001\n",
      "Decryption S-Box Output for first round first s-box: 1101\n",
      "Encryption S-Box Output for last round first s-box: 1101\n",
      "Decryption S-Box Output for first round first s-box: 1011\n",
      "Encryption S-Box Output for last round first s-box: 1011\n",
      "Decryption S-Box Output for first round first s-box: 0010\n",
      "Encryption S-Box Output for last round first s-box: 0010\n",
      "Decryption S-Box Output for first round first s-box: 1001\n",
      "Encryption S-Box Output for last round first s-box: 1001\n",
      "Decryption S-Box Output for first round first s-box: 0110\n",
      "Encryption S-Box Output for last round first s-box: 0110\n"
     ]
    }
   ],
   "source": [
    "# Test select func\n",
    "def mod_decrypt(ciphertext, key):\n",
    "\trkb = preprocess_key(key)\n",
    "\trkb_rev = rkb[::-1]\n",
    "\ttext, sbox_out = des(ciphertext, rkb_rev)\n",
    "\n",
    "\treturn text, sbox_out\n",
    "\n",
    "def mod_encrypt(plaintext, key):\n",
    "\trkb = preprocess_key(key)\n",
    "\ttext, sbox_out = des(plaintext, rkb)\n",
    "\n",
    "\treturn text, sbox_out\n",
    "\n",
    "for i in range(10):\n",
    "\tct = ciphertexts[i]\n",
    "\tpt = plaintexts[i]\n",
    "\n",
    "\ttext, sbox_out = mod_decrypt(ct, key)\n",
    "\tprint(f\"Decryption S-Box Output for first round first s-box: {dec2bin(sbox_out[0][0])}\")\n",
    "\n",
    "\ttext, sbox_out = mod_encrypt(pt, key)\n",
    "\tprint(f\"Encryption S-Box Output for last round first s-box: {dec2bin(sbox_out[15][0])}\")"
   ]
  },
  {
   "cell_type": "code",
   "execution_count": null,
   "metadata": {},
   "outputs": [
    {
     "name": "stdout",
     "output_type": "stream",
     "text": [
      "True\n"
     ]
    }
   ],
   "source": [
    "# Test on entire dataset\n",
    "results = []\n",
    "for ct in ciphertexts:\n",
    "\ttext, sbox_out = mod_decrypt(ct, key)\n",
    "\tdecrypt_out = int(dec2bin(sbox_out[0][0])[0])\n",
    "\tselect_out = dpa_select_function(ct, 60) # correct key is 60 from the paper\n",
    "\t\n",
    "\tif decrypt_out == select_out: \n",
    "\t\tresults.append(True)\n",
    "\telse:\n",
    "\t\tprint(decrypt_out, select_out)\n",
    "\t\tresults.append(False)\n",
    "\t\t\n",
    "print(all(results))"
   ]
  }
 ],
 "metadata": {
  "kernelspec": {
   "display_name": "Python 3",
   "language": "python",
   "name": "python3"
  },
  "language_info": {
   "codemirror_mode": {
    "name": "ipython",
    "version": 3
   },
   "file_extension": ".py",
   "mimetype": "text/x-python",
   "name": "python",
   "nbconvert_exporter": "python",
   "pygments_lexer": "ipython3",
   "version": "3.10.12"
  }
 },
 "nbformat": 4,
 "nbformat_minor": 2
}
