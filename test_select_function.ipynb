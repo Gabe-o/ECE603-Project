{
 "cells": [
  {
   "cell_type": "code",
   "execution_count": 22,
   "metadata": {},
   "outputs": [],
   "source": [
    "import pandas as pd\n",
    "from des_helpers import dpa_select_function, encrypt, decrypt, bin2hex, des, preprocess_key, dec2bin\n",
    "\n",
    "# Load data\n",
    "trace_df = pd.read_csv(\"processed_trace_data.csv\")\n",
    "\n",
    "# Constants\n",
    "kc = 15  # Known correct key index\n",
    "ciphertexts = trace_df['Ciphertext']"
   ]
  },
  {
   "cell_type": "code",
   "execution_count": 23,
   "metadata": {},
   "outputs": [
    {
     "data": {
      "text/plain": [
       "Filepath      secmatv1_2006_04_0809/wave_DES_HW_2006-04-09_0...\n",
       "Key                                            6a65786a65786a65\n",
       "Plaintext                                      c80e9f96b23813ff\n",
       "Ciphertext                                     8d28b211cf8d2683\n",
       "Power                                                  0.072367\n",
       "Name: 0, dtype: object"
      ]
     },
     "execution_count": 23,
     "metadata": {},
     "output_type": "execute_result"
    }
   ],
   "source": [
    "trace_df.iloc[0]"
   ]
  },
  {
   "cell_type": "code",
   "execution_count": 24,
   "metadata": {},
   "outputs": [
    {
     "name": "stdout",
     "output_type": "stream",
     "text": [
      "True\n",
      "True\n"
     ]
    }
   ],
   "source": [
    "# Test encrypt decrypt\n",
    "sample = trace_df.iloc[0]\n",
    "key = sample[\"Key\"].upper()\n",
    "pt = sample[\"Plaintext\"].upper()\n",
    "ct = sample[\"Ciphertext\"].upper()\n",
    "\n",
    "text = bin2hex(encrypt(pt, key))\n",
    "print(text == ct)\n",
    "\n",
    "text = bin2hex(decrypt(ct, key))\n",
    "print(text == pt)"
   ]
  },
  {
   "cell_type": "code",
   "execution_count": 25,
   "metadata": {},
   "outputs": [
    {
     "data": {
      "text/plain": [
       "'0110'"
      ]
     },
     "execution_count": 25,
     "metadata": {},
     "output_type": "execute_result"
    }
   ],
   "source": [
    "# Test select func\n",
    "def mod_decrypt(ciphertext, key):\n",
    "\trkb = preprocess_key(key)\n",
    "\trkb_rev = rkb[::-1]\n",
    "\ttext, sbox_out = des(ciphertext, rkb_rev)\n",
    "\n",
    "\treturn text, sbox_out\n",
    "\n",
    "text, sbox_out = mod_decrypt(ct, key)\n",
    "dec2bin(sbox_out[0][0]) # round 0 box 0"
   ]
  },
  {
   "cell_type": "code",
   "execution_count": 27,
   "metadata": {},
   "outputs": [
    {
     "name": "stdout",
     "output_type": "stream",
     "text": [
      "True\n"
     ]
    }
   ],
   "source": [
    "# Test on entire dataset\n",
    "results = []\n",
    "for ct in [c.upper() for c in ciphertexts]:\n",
    "    text, sbox_out = mod_decrypt(ct, key)\n",
    "    decrypt_out = int(dec2bin(sbox_out[0][0])[0])\n",
    "    select_out = dpa_select_function(ct, 60) # correct key is 60 from the paper\n",
    "    \n",
    "    if decrypt_out == select_out: \n",
    "        results.append(True)\n",
    "    else:\n",
    "        print(decrypt_out, select_out)\n",
    "        results.append(False)\n",
    "        \n",
    "print(all(results))"
   ]
  }
 ],
 "metadata": {
  "kernelspec": {
   "display_name": "Python 3",
   "language": "python",
   "name": "python3"
  },
  "language_info": {
   "codemirror_mode": {
    "name": "ipython",
    "version": 3
   },
   "file_extension": ".py",
   "mimetype": "text/x-python",
   "name": "python",
   "nbconvert_exporter": "python",
   "pygments_lexer": "ipython3",
   "version": "3.10.12"
  }
 },
 "nbformat": 4,
 "nbformat_minor": 2
}
