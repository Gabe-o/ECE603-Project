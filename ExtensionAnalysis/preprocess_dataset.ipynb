{
 "cells": [
  {
   "cell_type": "code",
   "execution_count": 4,
   "metadata": {},
   "outputs": [
    {
     "name": "stdout",
     "output_type": "stream",
     "text": [
      "Loaded DES data from ../HardwareData/ENC_DES_1024_trials_2024-12-19-18-04-32.npy\n",
      "Loaded AES data from ../HardwareData/ENC_AES_1024_trials_2024-12-19-18-10-56.npy\n"
     ]
    }
   ],
   "source": [
    "import glob\n",
    "from des_helpers import encrypt, dec2bin, bin2hex\n",
    "import numpy as np\n",
    "import pandas as pd\n",
    "\n",
    "# Path to the directory with CSV files\n",
    "dataset_dir = \"../HardwareData\"\n",
    "files = glob.glob(f\"{dataset_dir}/*.npy\")\n",
    "\n",
    "print(f\"Loaded DES data from {files[0]}\")\n",
    "data_des = np.load(files[0])\n",
    "print(f\"Loaded AES data from {files[1]}\")\n",
    "data_aes = np.load(files[1])"
   ]
  },
  {
   "cell_type": "code",
   "execution_count": 5,
   "metadata": {},
   "outputs": [],
   "source": [
    "trace_data = []\n",
    "key = f\"{0:016x}\".upper()\n",
    "plaintexts = range(0, 1024)\n",
    "\n",
    "# Append to the list\n",
    "for pt in plaintexts:\n",
    "\ttrace = data_des[pt]\n",
    "\t\n",
    "\tpower_value = np.max(trace[:100]) # Get the max value from the first 100 time steps\n",
    "\n",
    "\tplaintext = f\"{pt:016x}\".upper()\n",
    "\tciphertext = bin2hex(encrypt(plaintext, key))\n",
    "\n",
    "\ttrace_data.append({\n",
    "\t\t\"Key\": key,\n",
    "\t\t\"Plaintext\": plaintext,\n",
    "\t\t\"Ciphertext\": ciphertext,\n",
    "\t\t\"Power\": power_value\n",
    "\t})\n",
    "\n",
    "# Convert to DataFrame for easier handling\n",
    "trace_df = pd.DataFrame(trace_data)\n",
    "trace_df.to_csv(\"des_extension_data.csv\", index=False)"
   ]
  }
 ],
 "metadata": {
  "kernelspec": {
   "display_name": "Python 3",
   "language": "python",
   "name": "python3"
  },
  "language_info": {
   "codemirror_mode": {
    "name": "ipython",
    "version": 3
   },
   "file_extension": ".py",
   "mimetype": "text/x-python",
   "name": "python",
   "nbconvert_exporter": "python",
   "pygments_lexer": "ipython3",
   "version": "3.10.12"
  }
 },
 "nbformat": 4,
 "nbformat_minor": 2
}
