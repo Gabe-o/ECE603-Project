{
 "cells": [
  {
   "cell_type": "markdown",
   "metadata": {},
   "source": [
    "# Extension\n",
    "We want to take available implementations of DES and AES and test them on real hardware to try to perform simple estimation and key reversal\n",
    "\n",
    "## Setup\n",
    "We are using an Arduino Pro Micro dev board, with a Teledyne ADQ32 digitizing oscilloscope to capture the power draw (using a custom power draw board to get the live power draw) at a sample rate of 19531250Hz (2.5Ghz/128) as this is close to the clock rate of the board (16MhZ).\n",
    "\n",
    "We modified the code in the crypto libraries to trigger the oscilloscope on the last line before the substitution operation is performed, similarly to the setup from the paper.\n",
    "\n",
    "Due to this fact, the actual bit we are looking for is likely to be within 100 samples of the start of the recording, so we will perform the analysis on 1-100 and take the most promising value in that range.\n",
    "\n",
    "The key for each trial is fixed to 1, and the ciphertext is modified\n",
    "\n",
    "\n"
   ]
  }
 ],
 "metadata": {
  "language_info": {
   "name": "python"
  }
 },
 "nbformat": 4,
 "nbformat_minor": 2
}
