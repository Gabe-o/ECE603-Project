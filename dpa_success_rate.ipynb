{
 "cells": [
  {
   "cell_type": "code",
   "execution_count": 3,
   "metadata": {},
   "outputs": [
    {
     "name": "stdout",
     "output_type": "stream",
     "text": [
      "Confusion data loaded from confusion_Kc=60.pkl\n"
     ]
    }
   ],
   "source": [
    "import pickle\n",
    "import numpy as np\n",
    "import matplotlib.pyplot as plt\n",
    "from scipy.linalg import sqrtm\n",
    "from scipy.stats import multivariate_normal\n",
    "\n",
    "def load_confusion_data_pickle(input_path=\"confusion_Kc.pkl\"):\n",
    "\twith open(input_path, \"rb\") as f:\n",
    "\t\tdata = pickle.load(f)\n",
    "\tprint(f\"Confusion data loaded from {input_path}\")\n",
    "\treturn data\n",
    "\n",
    "# Load confusion matrix K\n",
    "K = load_confusion_data_pickle(\"confusion_Kc=60.pkl\")\n",
    "\n",
    "# Confusion vector (diagonal of K)\n",
    "kappa = np.diag(K)"
   ]
  },
  {
   "cell_type": "code",
   "execution_count": 6,
   "metadata": {},
   "outputs": [
    {
     "name": "stdout",
     "output_type": "stream",
     "text": [
      "Eigenvalues of Sigma: [ 2.09629704e+00  3.38238985e-01  2.38652657e-01  1.55987001e-01\n",
      "  7.07783607e-02  7.03785511e-02  6.99338613e-02  6.94804601e-02\n",
      "  5.54154421e-02  1.23685042e-02  3.02090812e-02  3.20731525e-02\n",
      "  3.03957549e-02  3.18335455e-02  3.17837180e-02  3.05778166e-02\n",
      "  3.06523461e-02  3.06949280e-02  3.08292233e-02  3.16648423e-02\n",
      "  3.16027327e-02  3.09581512e-02  3.15054598e-02  3.14416531e-02\n",
      "  3.13093344e-02  3.11341767e-02  3.11942829e-02  3.11793733e-02\n",
      "  8.10827546e-03  7.49493720e-03  7.54817654e-03  8.02259428e-03\n",
      "  7.58440124e-03  7.98609680e-03  7.95790303e-03  7.94654835e-03\n",
      "  7.62533835e-03  7.63422403e-03  7.66959038e-03  7.68225111e-03\n",
      "  7.69399368e-03  7.90435730e-03  7.72582483e-03  7.74003177e-03\n",
      "  7.87712136e-03  7.86821831e-03  7.75971012e-03  7.83722384e-03\n",
      "  7.83228160e-03  7.81138217e-03  7.78672924e-03  7.79905776e-03\n",
      "  3.49754832e-17 -3.25037385e-17 -2.20252963e-17  2.00341372e-17\n",
      "  1.77792272e-17  1.15063535e-17 -1.33480910e-17  4.17807291e-18\n",
      " -3.05842644e-20 -4.65519546e-18 -7.82257709e-18]\n",
      "Sigma is not positive definite.\n",
      "Sigma is not positive semi-definite.\n"
     ]
    }
   ],
   "source": [
    "# Constants\n",
    "epsilon = 0.0016  # Differential power value\n",
    "sigma = 0.0046    # Standard deviation of noise\n",
    "snr_factor = epsilon / (2 * sigma)  # Signal-to-noise ratio\n",
    "snr_factor_squared = snr_factor**2  \n",
    "\n",
    "mu = 0.5 * (epsilon / sigma) ** 2 * kappa\n",
    "Sigma = (epsilon / sigma) ** 2 * K + 0.25 * (epsilon / sigma) ** 4 * (K - np.outer(kappa, kappa))\n",
    "\n",
    "# Check the eigenvalues of Sigma to see if it's positive definite\n",
    "eigvals = np.linalg.eigvals(Sigma)\n",
    "\n",
    "# Output the eigenvalues\n",
    "print(f\"Eigenvalues of Sigma: {eigvals}\")\n",
    "\n",
    "# Check if all eigenvalues are positive\n",
    "if np.all(eigvals > 0):\n",
    "    print(\"Sigma is positive definite.\")\n",
    "else:\n",
    "    print(\"Sigma is not positive definite.\")\n",
    "\n",
    "# Check if all eigenvalues are non-negative (positive semi-definite)\n",
    "if np.all(eigvals >= 0):\n",
    "    print(\"Sigma is positive semi-definite.\")\n",
    "else:\n",
    "    print(\"Sigma is not positive semi-definite.\")"
   ]
  },
  {
   "cell_type": "code",
   "execution_count": null,
   "metadata": {},
   "outputs": [],
   "source": [
    "rv = multivariate_normal(mean=mu, cov=Sigma)"
   ]
  },
  {
   "cell_type": "code",
   "execution_count": null,
   "metadata": {},
   "outputs": [
    {
     "ename": "LinAlgError",
     "evalue": "When `allow_singular is False`, the input matrix must be symmetric positive definite.",
     "output_type": "error",
     "traceback": [
      "\u001b[0;31m---------------------------------------------------------------------------\u001b[0m",
      "\u001b[0;31mLinAlgError\u001b[0m                               Traceback (most recent call last)",
      "Cell \u001b[0;32mIn[2], line 18\u001b[0m\n\u001b[1;32m     15\u001b[0m mu \u001b[38;5;241m=\u001b[39m \u001b[38;5;241m0.5\u001b[39m \u001b[38;5;241m*\u001b[39m (epsilon \u001b[38;5;241m/\u001b[39m sigma) \u001b[38;5;241m*\u001b[39m\u001b[38;5;241m*\u001b[39m \u001b[38;5;241m2\u001b[39m \u001b[38;5;241m*\u001b[39m kappa\n\u001b[1;32m     16\u001b[0m Sigma \u001b[38;5;241m=\u001b[39m (epsilon \u001b[38;5;241m/\u001b[39m sigma) \u001b[38;5;241m*\u001b[39m\u001b[38;5;241m*\u001b[39m \u001b[38;5;241m2\u001b[39m \u001b[38;5;241m*\u001b[39m K \u001b[38;5;241m+\u001b[39m \u001b[38;5;241m0.25\u001b[39m \u001b[38;5;241m*\u001b[39m (epsilon \u001b[38;5;241m/\u001b[39m sigma) \u001b[38;5;241m*\u001b[39m\u001b[38;5;241m*\u001b[39m \u001b[38;5;241m4\u001b[39m \u001b[38;5;241m*\u001b[39m (K \u001b[38;5;241m-\u001b[39m np\u001b[38;5;241m.\u001b[39mouter(kappa, kappa))\n\u001b[0;32m---> 18\u001b[0m rv \u001b[38;5;241m=\u001b[39m \u001b[43mmultivariate_normal\u001b[49m\u001b[43m(\u001b[49m\u001b[43mmean\u001b[49m\u001b[38;5;241;43m=\u001b[39;49m\u001b[43mmu\u001b[49m\u001b[43m,\u001b[49m\u001b[43m \u001b[49m\u001b[43mcov\u001b[49m\u001b[38;5;241;43m=\u001b[39;49m\u001b[43mSigma\u001b[49m\u001b[43m)\u001b[49m\n\u001b[1;32m     20\u001b[0m \u001b[38;5;66;03m# Compute the matrix: K + (ε / 2σ)^2 * (K - κκ^T)\u001b[39;00m\n\u001b[1;32m     21\u001b[0m kappa_outer \u001b[38;5;241m=\u001b[39m np\u001b[38;5;241m.\u001b[39mouter(kappa, kappa)\n",
      "File \u001b[0;32m~/.local/lib/python3.10/site-packages/scipy/stats/_multivariate.py:397\u001b[0m, in \u001b[0;36mmultivariate_normal_gen.__call__\u001b[0;34m(self, mean, cov, allow_singular, seed)\u001b[0m\n\u001b[1;32m    392\u001b[0m \u001b[38;5;28;01mdef\u001b[39;00m \u001b[38;5;21m__call__\u001b[39m(\u001b[38;5;28mself\u001b[39m, mean\u001b[38;5;241m=\u001b[39m\u001b[38;5;28;01mNone\u001b[39;00m, cov\u001b[38;5;241m=\u001b[39m\u001b[38;5;241m1\u001b[39m, allow_singular\u001b[38;5;241m=\u001b[39m\u001b[38;5;28;01mFalse\u001b[39;00m, seed\u001b[38;5;241m=\u001b[39m\u001b[38;5;28;01mNone\u001b[39;00m):\n\u001b[1;32m    393\u001b[0m \u001b[38;5;250m    \u001b[39m\u001b[38;5;124;03m\"\"\"Create a frozen multivariate normal distribution.\u001b[39;00m\n\u001b[1;32m    394\u001b[0m \n\u001b[1;32m    395\u001b[0m \u001b[38;5;124;03m    See `multivariate_normal_frozen` for more information.\u001b[39;00m\n\u001b[1;32m    396\u001b[0m \u001b[38;5;124;03m    \"\"\"\u001b[39;00m\n\u001b[0;32m--> 397\u001b[0m     \u001b[38;5;28;01mreturn\u001b[39;00m \u001b[43mmultivariate_normal_frozen\u001b[49m\u001b[43m(\u001b[49m\u001b[43mmean\u001b[49m\u001b[43m,\u001b[49m\u001b[43m \u001b[49m\u001b[43mcov\u001b[49m\u001b[43m,\u001b[49m\n\u001b[1;32m    398\u001b[0m \u001b[43m                                      \u001b[49m\u001b[43mallow_singular\u001b[49m\u001b[38;5;241;43m=\u001b[39;49m\u001b[43mallow_singular\u001b[49m\u001b[43m,\u001b[49m\n\u001b[1;32m    399\u001b[0m \u001b[43m                                      \u001b[49m\u001b[43mseed\u001b[49m\u001b[38;5;241;43m=\u001b[39;49m\u001b[43mseed\u001b[49m\u001b[43m)\u001b[49m\n",
      "File \u001b[0;32m~/.local/lib/python3.10/site-packages/scipy/stats/_multivariate.py:903\u001b[0m, in \u001b[0;36mmultivariate_normal_frozen.__init__\u001b[0;34m(self, mean, cov, allow_singular, seed, maxpts, abseps, releps)\u001b[0m\n\u001b[1;32m    860\u001b[0m \u001b[38;5;250m\u001b[39m\u001b[38;5;124;03m\"\"\"Create a frozen multivariate normal distribution.\u001b[39;00m\n\u001b[1;32m    861\u001b[0m \n\u001b[1;32m    862\u001b[0m \u001b[38;5;124;03mParameters\u001b[39;00m\n\u001b[0;32m   (...)\u001b[0m\n\u001b[1;32m    899\u001b[0m \n\u001b[1;32m    900\u001b[0m \u001b[38;5;124;03m\"\"\"\u001b[39;00m \u001b[38;5;66;03m# numpy/numpydoc#87  # noqa: E501\u001b[39;00m\n\u001b[1;32m    901\u001b[0m \u001b[38;5;28mself\u001b[39m\u001b[38;5;241m.\u001b[39m_dist \u001b[38;5;241m=\u001b[39m multivariate_normal_gen(seed)\n\u001b[1;32m    902\u001b[0m \u001b[38;5;28mself\u001b[39m\u001b[38;5;241m.\u001b[39mdim, \u001b[38;5;28mself\u001b[39m\u001b[38;5;241m.\u001b[39mmean, \u001b[38;5;28mself\u001b[39m\u001b[38;5;241m.\u001b[39mcov_object \u001b[38;5;241m=\u001b[39m (\n\u001b[0;32m--> 903\u001b[0m     \u001b[38;5;28;43mself\u001b[39;49m\u001b[38;5;241;43m.\u001b[39;49m\u001b[43m_dist\u001b[49m\u001b[38;5;241;43m.\u001b[39;49m\u001b[43m_process_parameters\u001b[49m\u001b[43m(\u001b[49m\u001b[43mmean\u001b[49m\u001b[43m,\u001b[49m\u001b[43m \u001b[49m\u001b[43mcov\u001b[49m\u001b[43m,\u001b[49m\u001b[43m \u001b[49m\u001b[43mallow_singular\u001b[49m\u001b[43m)\u001b[49m)\n\u001b[1;32m    904\u001b[0m \u001b[38;5;28mself\u001b[39m\u001b[38;5;241m.\u001b[39mallow_singular \u001b[38;5;241m=\u001b[39m allow_singular \u001b[38;5;129;01mor\u001b[39;00m \u001b[38;5;28mself\u001b[39m\u001b[38;5;241m.\u001b[39mcov_object\u001b[38;5;241m.\u001b[39m_allow_singular\n\u001b[1;32m    905\u001b[0m \u001b[38;5;28;01mif\u001b[39;00m \u001b[38;5;129;01mnot\u001b[39;00m maxpts:\n",
      "File \u001b[0;32m~/.local/lib/python3.10/site-packages/scipy/stats/_multivariate.py:421\u001b[0m, in \u001b[0;36mmultivariate_normal_gen._process_parameters\u001b[0;34m(self, mean, cov, allow_singular)\u001b[0m\n\u001b[1;32m    414\u001b[0m dim, mean, cov \u001b[38;5;241m=\u001b[39m \u001b[38;5;28mself\u001b[39m\u001b[38;5;241m.\u001b[39m_process_parameters_psd(\u001b[38;5;28;01mNone\u001b[39;00m, mean, cov)\n\u001b[1;32m    415\u001b[0m \u001b[38;5;66;03m# After input validation, some methods then processed the arrays\u001b[39;00m\n\u001b[1;32m    416\u001b[0m \u001b[38;5;66;03m# with a `_PSD` object and used that to perform computation.\u001b[39;00m\n\u001b[1;32m    417\u001b[0m \u001b[38;5;66;03m# To avoid branching statements in each method depending on whether\u001b[39;00m\n\u001b[1;32m    418\u001b[0m \u001b[38;5;66;03m# `cov` is an array or `Covariance` object, we always process the\u001b[39;00m\n\u001b[1;32m    419\u001b[0m \u001b[38;5;66;03m# array with `_PSD`, and then use wrapper that satisfies the\u001b[39;00m\n\u001b[1;32m    420\u001b[0m \u001b[38;5;66;03m# `Covariance` interface, `CovViaPSD`.\u001b[39;00m\n\u001b[0;32m--> 421\u001b[0m psd \u001b[38;5;241m=\u001b[39m \u001b[43m_PSD\u001b[49m\u001b[43m(\u001b[49m\u001b[43mcov\u001b[49m\u001b[43m,\u001b[49m\u001b[43m \u001b[49m\u001b[43mallow_singular\u001b[49m\u001b[38;5;241;43m=\u001b[39;49m\u001b[43mallow_singular\u001b[49m\u001b[43m)\u001b[49m\n\u001b[1;32m    422\u001b[0m cov_object \u001b[38;5;241m=\u001b[39m _covariance\u001b[38;5;241m.\u001b[39mCovViaPSD(psd)\n\u001b[1;32m    423\u001b[0m \u001b[38;5;28;01mreturn\u001b[39;00m dim, mean, cov_object\n",
      "File \u001b[0;32m~/.local/lib/python3.10/site-packages/scipy/stats/_multivariate.py:174\u001b[0m, in \u001b[0;36m_PSD.__init__\u001b[0;34m(self, M, cond, rcond, lower, check_finite, allow_singular)\u001b[0m\n\u001b[1;32m    171\u001b[0m \u001b[38;5;28;01mif\u001b[39;00m \u001b[38;5;28mlen\u001b[39m(d) \u001b[38;5;241m<\u001b[39m \u001b[38;5;28mlen\u001b[39m(s) \u001b[38;5;129;01mand\u001b[39;00m \u001b[38;5;129;01mnot\u001b[39;00m allow_singular:\n\u001b[1;32m    172\u001b[0m     msg \u001b[38;5;241m=\u001b[39m (\u001b[38;5;124m\"\u001b[39m\u001b[38;5;124mWhen `allow_singular is False`, the input matrix must be \u001b[39m\u001b[38;5;124m\"\u001b[39m\n\u001b[1;32m    173\u001b[0m            \u001b[38;5;124m\"\u001b[39m\u001b[38;5;124msymmetric positive definite.\u001b[39m\u001b[38;5;124m\"\u001b[39m)\n\u001b[0;32m--> 174\u001b[0m     \u001b[38;5;28;01mraise\u001b[39;00m np\u001b[38;5;241m.\u001b[39mlinalg\u001b[38;5;241m.\u001b[39mLinAlgError(msg)\n\u001b[1;32m    175\u001b[0m s_pinv \u001b[38;5;241m=\u001b[39m _pinv_1d(s, eps)\n\u001b[1;32m    176\u001b[0m U \u001b[38;5;241m=\u001b[39m np\u001b[38;5;241m.\u001b[39mmultiply(u, np\u001b[38;5;241m.\u001b[39msqrt(s_pinv))\n",
      "\u001b[0;31mLinAlgError\u001b[0m: When `allow_singular is False`, the input matrix must be symmetric positive definite."
     ]
    }
   ],
   "source": [
    "# Compute the matrix: K + (ε / 2σ)^2 * (K - κκ^T)\n",
    "kappa_outer = np.outer(kappa, kappa)\n",
    "adjusted_matrix = K + snr_factor_squared * (K - kappa_outer)\n",
    "\n",
    "# sqrt\n",
    "sqrt_matrix = sqrtm(adjusted_matrix)\n",
    "\n",
    "# Inverse of the adjusted matrix\n",
    "matrix_sqrt_inv = np.linalg.inv(sqrt_matrix)\n",
    "\n",
    "term = snr_factor * matrix_sqrt_inv @ kappa\n",
    "\n",
    "# Number of measurements\n",
    "n_measurements = np.arange(1, 1001)\n",
    "\n",
    "# Calculate SR_63\n",
    "success_rate_sr63 = []\n",
    "for n in n_measurements:\n",
    "\tx = np.sqrt(n) * term\n",
    "\tprint(x)\n",
    "\tsr = rv.cdf(np.sqrt(n) * term)\n",
    "\tsuccess_rate_sr63.append(sr)\n",
    "\n",
    "# Plot SR_63\n",
    "plt.figure(figsize=(10, 6))\n",
    "plt.plot(n_measurements, success_rate_sr63, label=\"SR_63 (Theoretical)\", color=\"blue\")\n",
    "plt.xlabel(\"Number of Measurements\")\n",
    "plt.ylabel(\"Success Rate\")\n",
    "plt.title(\"Success Rate SR_63 vs Number of Measurements\")\n",
    "plt.legend()\n",
    "plt.grid()\n",
    "plt.show()\n",
    "\n"
   ]
  }
 ],
 "metadata": {
  "kernelspec": {
   "display_name": "Python 3",
   "language": "python",
   "name": "python3"
  },
  "language_info": {
   "codemirror_mode": {
    "name": "ipython",
    "version": 3
   },
   "file_extension": ".py",
   "mimetype": "text/x-python",
   "name": "python",
   "nbconvert_exporter": "python",
   "pygments_lexer": "ipython3",
   "version": "3.10.12"
  }
 },
 "nbformat": 4,
 "nbformat_minor": 2
}
